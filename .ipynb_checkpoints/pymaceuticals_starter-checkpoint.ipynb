{
 "cells": [
  {
   "cell_type": "markdown",
   "metadata": {},
   "source": [
    "## Observations and Insights "
   ]
  },
  {
   "cell_type": "markdown",
   "metadata": {},
   "source": [
    "Capomulin and Ramicane appear to be the best performing drugs of the ones tested, and we can see this reinforced multiple times in our data. \n",
    "\n",
    "First in the bar graph of total number of timepoints these two are by far the highest. If each treatment started with the same number of mice and the lack of timepoints is because the mice didn't survive, this shows that these two drugs had the best survivability. \n",
    "\n",
    "Next in the box and whisker plot we did, Capomulin and Ramicane have the lowest average final tumor volume, indicating that they were effective in reducing the size tumors. We can also infer some information about the effectiveness of the two drugs, Ramicane had the lower final tumor size while Capomulin had the lower IQR, indicating that while Ramicane may be slightly more effective overall, Capomulin is more consistent. \n",
    "\n",
    "Finally in the line plot we can see the efficacy of Capomulin in action as mouse m957 tumor shrank over the course of the study (small uptick at the end, but I hope she made it).\n",
    "\n",
    "Based on the bar graph most of the other treatments are close to the placebo, indicating that they may have only had a slight impact. There is one exception though with Propriva which is actually much lower than the placebo, meaning that it might have actually harmed the mice\n",
    "\n",
    "One final observation based on the scatterplot at the end, is that weight and tumor volume is strongly correlated.\n"
   ]
  },
  {
   "cell_type": "code",
   "execution_count": 141,
   "metadata": {},
   "outputs": [
    {
     "data": {
      "text/html": [
       "<div>\n",
       "<style scoped>\n",
       "    .dataframe tbody tr th:only-of-type {\n",
       "        vertical-align: middle;\n",
       "    }\n",
       "\n",
       "    .dataframe tbody tr th {\n",
       "        vertical-align: top;\n",
       "    }\n",
       "\n",
       "    .dataframe thead th {\n",
       "        text-align: right;\n",
       "    }\n",
       "</style>\n",
       "<table border=\"1\" class=\"dataframe\">\n",
       "  <thead>\n",
       "    <tr style=\"text-align: right;\">\n",
       "      <th></th>\n",
       "      <th>Mouse ID</th>\n",
       "      <th>Drug Regimen</th>\n",
       "      <th>Sex</th>\n",
       "      <th>Age_months</th>\n",
       "      <th>Weight (g)</th>\n",
       "      <th>Timepoint</th>\n",
       "      <th>Tumor Volume (mm3)</th>\n",
       "      <th>Metastatic Sites</th>\n",
       "    </tr>\n",
       "  </thead>\n",
       "  <tbody>\n",
       "    <tr>\n",
       "      <th>0</th>\n",
       "      <td>k403</td>\n",
       "      <td>Ramicane</td>\n",
       "      <td>Male</td>\n",
       "      <td>21</td>\n",
       "      <td>16</td>\n",
       "      <td>0</td>\n",
       "      <td>45.000000</td>\n",
       "      <td>0</td>\n",
       "    </tr>\n",
       "    <tr>\n",
       "      <th>1</th>\n",
       "      <td>k403</td>\n",
       "      <td>Ramicane</td>\n",
       "      <td>Male</td>\n",
       "      <td>21</td>\n",
       "      <td>16</td>\n",
       "      <td>5</td>\n",
       "      <td>38.825898</td>\n",
       "      <td>0</td>\n",
       "    </tr>\n",
       "    <tr>\n",
       "      <th>2</th>\n",
       "      <td>k403</td>\n",
       "      <td>Ramicane</td>\n",
       "      <td>Male</td>\n",
       "      <td>21</td>\n",
       "      <td>16</td>\n",
       "      <td>10</td>\n",
       "      <td>35.014271</td>\n",
       "      <td>1</td>\n",
       "    </tr>\n",
       "    <tr>\n",
       "      <th>3</th>\n",
       "      <td>k403</td>\n",
       "      <td>Ramicane</td>\n",
       "      <td>Male</td>\n",
       "      <td>21</td>\n",
       "      <td>16</td>\n",
       "      <td>15</td>\n",
       "      <td>34.223992</td>\n",
       "      <td>1</td>\n",
       "    </tr>\n",
       "    <tr>\n",
       "      <th>4</th>\n",
       "      <td>k403</td>\n",
       "      <td>Ramicane</td>\n",
       "      <td>Male</td>\n",
       "      <td>21</td>\n",
       "      <td>16</td>\n",
       "      <td>20</td>\n",
       "      <td>32.997729</td>\n",
       "      <td>1</td>\n",
       "    </tr>\n",
       "  </tbody>\n",
       "</table>\n",
       "</div>"
      ],
      "text/plain": [
       "  Mouse ID Drug Regimen   Sex  Age_months  Weight (g)  Timepoint  \\\n",
       "0     k403     Ramicane  Male          21          16          0   \n",
       "1     k403     Ramicane  Male          21          16          5   \n",
       "2     k403     Ramicane  Male          21          16         10   \n",
       "3     k403     Ramicane  Male          21          16         15   \n",
       "4     k403     Ramicane  Male          21          16         20   \n",
       "\n",
       "   Tumor Volume (mm3)  Metastatic Sites  \n",
       "0           45.000000                 0  \n",
       "1           38.825898                 0  \n",
       "2           35.014271                 1  \n",
       "3           34.223992                 1  \n",
       "4           32.997729                 1  "
      ]
     },
     "execution_count": 141,
     "metadata": {},
     "output_type": "execute_result"
    }
   ],
   "source": [
    "# Dependencies and Setup\n",
    "import matplotlib.pyplot as plt\n",
    "import pandas as pd\n",
    "import scipy.stats as st\n",
    "import numpy as np\n",
    "from scipy.stats import linregress\n",
    "\n",
    "# Study data files\n",
    "mouse_metadata_path = \"data/Mouse_metadata.csv\"\n",
    "study_results_path = \"data/Study_results.csv\"\n",
    "\n",
    "# Read the mouse data and the study results\n",
    "mouse_metadata = pd.read_csv(mouse_metadata_path)\n",
    "study_results = pd.read_csv(study_results_path)\n",
    "\n",
    "# Combine the data into a single dataset\n",
    "study_results_complete = pd.merge(mouse_metadata, study_results, how=\"outer\", on=[\"Mouse ID\", \"Mouse ID\"])\n",
    "# Display the data table for preview\n",
    "study_results_complete.head()"
   ]
  },
  {
   "cell_type": "code",
   "execution_count": 3,
   "metadata": {},
   "outputs": [
    {
     "data": {
      "text/plain": [
       "249"
      ]
     },
     "execution_count": 3,
     "metadata": {},
     "output_type": "execute_result"
    }
   ],
   "source": [
    "# Checking the number of mice.\n",
    "number_of_mice= len(study_results_complete[\"Mouse ID\"].unique())\n",
    "number_of_mice"
   ]
  },
  {
   "cell_type": "code",
   "execution_count": 4,
   "metadata": {},
   "outputs": [
    {
     "data": {
      "text/html": [
       "<div>\n",
       "<style scoped>\n",
       "    .dataframe tbody tr th:only-of-type {\n",
       "        vertical-align: middle;\n",
       "    }\n",
       "\n",
       "    .dataframe tbody tr th {\n",
       "        vertical-align: top;\n",
       "    }\n",
       "\n",
       "    .dataframe thead th {\n",
       "        text-align: right;\n",
       "    }\n",
       "</style>\n",
       "<table border=\"1\" class=\"dataframe\">\n",
       "  <thead>\n",
       "    <tr style=\"text-align: right;\">\n",
       "      <th></th>\n",
       "      <th>Mouse ID</th>\n",
       "      <th>Timepoint</th>\n",
       "    </tr>\n",
       "  </thead>\n",
       "  <tbody>\n",
       "    <tr>\n",
       "      <th>909</th>\n",
       "      <td>g989</td>\n",
       "      <td>0</td>\n",
       "    </tr>\n",
       "    <tr>\n",
       "      <th>911</th>\n",
       "      <td>g989</td>\n",
       "      <td>5</td>\n",
       "    </tr>\n",
       "    <tr>\n",
       "      <th>913</th>\n",
       "      <td>g989</td>\n",
       "      <td>10</td>\n",
       "    </tr>\n",
       "    <tr>\n",
       "      <th>915</th>\n",
       "      <td>g989</td>\n",
       "      <td>15</td>\n",
       "    </tr>\n",
       "    <tr>\n",
       "      <th>917</th>\n",
       "      <td>g989</td>\n",
       "      <td>20</td>\n",
       "    </tr>\n",
       "  </tbody>\n",
       "</table>\n",
       "</div>"
      ],
      "text/plain": [
       "    Mouse ID  Timepoint\n",
       "909     g989          0\n",
       "911     g989          5\n",
       "913     g989         10\n",
       "915     g989         15\n",
       "917     g989         20"
      ]
     },
     "execution_count": 4,
     "metadata": {},
     "output_type": "execute_result"
    }
   ],
   "source": [
    "# Getting the duplicate mice by ID number that shows up for Mouse ID and Timepoint. \n",
    "\n",
    "duplicate_mice = study_results_complete[study_results_complete.duplicated([\"Mouse ID\", \"Timepoint\"])]\n",
    "duplicate_mice[[\"Mouse ID\", \"Timepoint\"]]"
   ]
  },
  {
   "cell_type": "code",
   "execution_count": 5,
   "metadata": {},
   "outputs": [
    {
     "data": {
      "text/html": [
       "<div>\n",
       "<style scoped>\n",
       "    .dataframe tbody tr th:only-of-type {\n",
       "        vertical-align: middle;\n",
       "    }\n",
       "\n",
       "    .dataframe tbody tr th {\n",
       "        vertical-align: top;\n",
       "    }\n",
       "\n",
       "    .dataframe thead th {\n",
       "        text-align: right;\n",
       "    }\n",
       "</style>\n",
       "<table border=\"1\" class=\"dataframe\">\n",
       "  <thead>\n",
       "    <tr style=\"text-align: right;\">\n",
       "      <th></th>\n",
       "      <th>Mouse ID</th>\n",
       "      <th>Drug Regimen</th>\n",
       "      <th>Sex</th>\n",
       "      <th>Age_months</th>\n",
       "      <th>Weight (g)</th>\n",
       "      <th>Timepoint</th>\n",
       "      <th>Tumor Volume (mm3)</th>\n",
       "      <th>Metastatic Sites</th>\n",
       "    </tr>\n",
       "  </thead>\n",
       "  <tbody>\n",
       "    <tr>\n",
       "      <th>909</th>\n",
       "      <td>g989</td>\n",
       "      <td>Propriva</td>\n",
       "      <td>Female</td>\n",
       "      <td>21</td>\n",
       "      <td>26</td>\n",
       "      <td>0</td>\n",
       "      <td>45.000000</td>\n",
       "      <td>0</td>\n",
       "    </tr>\n",
       "    <tr>\n",
       "      <th>911</th>\n",
       "      <td>g989</td>\n",
       "      <td>Propriva</td>\n",
       "      <td>Female</td>\n",
       "      <td>21</td>\n",
       "      <td>26</td>\n",
       "      <td>5</td>\n",
       "      <td>47.570392</td>\n",
       "      <td>0</td>\n",
       "    </tr>\n",
       "    <tr>\n",
       "      <th>913</th>\n",
       "      <td>g989</td>\n",
       "      <td>Propriva</td>\n",
       "      <td>Female</td>\n",
       "      <td>21</td>\n",
       "      <td>26</td>\n",
       "      <td>10</td>\n",
       "      <td>49.880528</td>\n",
       "      <td>0</td>\n",
       "    </tr>\n",
       "    <tr>\n",
       "      <th>915</th>\n",
       "      <td>g989</td>\n",
       "      <td>Propriva</td>\n",
       "      <td>Female</td>\n",
       "      <td>21</td>\n",
       "      <td>26</td>\n",
       "      <td>15</td>\n",
       "      <td>53.442020</td>\n",
       "      <td>0</td>\n",
       "    </tr>\n",
       "    <tr>\n",
       "      <th>917</th>\n",
       "      <td>g989</td>\n",
       "      <td>Propriva</td>\n",
       "      <td>Female</td>\n",
       "      <td>21</td>\n",
       "      <td>26</td>\n",
       "      <td>20</td>\n",
       "      <td>54.657650</td>\n",
       "      <td>1</td>\n",
       "    </tr>\n",
       "  </tbody>\n",
       "</table>\n",
       "</div>"
      ],
      "text/plain": [
       "    Mouse ID Drug Regimen     Sex  Age_months  Weight (g)  Timepoint  \\\n",
       "909     g989     Propriva  Female          21          26          0   \n",
       "911     g989     Propriva  Female          21          26          5   \n",
       "913     g989     Propriva  Female          21          26         10   \n",
       "915     g989     Propriva  Female          21          26         15   \n",
       "917     g989     Propriva  Female          21          26         20   \n",
       "\n",
       "     Tumor Volume (mm3)  Metastatic Sites  \n",
       "909           45.000000                 0  \n",
       "911           47.570392                 0  \n",
       "913           49.880528                 0  \n",
       "915           53.442020                 0  \n",
       "917           54.657650                 1  "
      ]
     },
     "execution_count": 5,
     "metadata": {},
     "output_type": "execute_result"
    }
   ],
   "source": [
    "# Optional: Get all the data for the duplicate mouse ID. \n",
    "duplicate_mice"
   ]
  },
  {
   "cell_type": "code",
   "execution_count": 6,
   "metadata": {},
   "outputs": [],
   "source": [
    "# Create a clean DataFrame by dropping the duplicate mouse by its ID.\n",
    "study_results_cleaned = study_results_complete.drop_duplicates([\"Mouse ID\", \"Timepoint\"], keep='first', inplace=False)"
   ]
  },
  {
   "cell_type": "code",
   "execution_count": 7,
   "metadata": {},
   "outputs": [
    {
     "data": {
      "text/plain": [
       "249"
      ]
     },
     "execution_count": 7,
     "metadata": {},
     "output_type": "execute_result"
    }
   ],
   "source": [
    "# Checking the number of mice in the clean DataFrame.\n",
    "len(study_results_cleaned[\"Mouse ID\"].unique())\n",
    "\n",
    "# Same length, indicating no mice were lost"
   ]
  },
  {
   "cell_type": "markdown",
   "metadata": {},
   "source": [
    "## Summary Statistics"
   ]
  },
  {
   "cell_type": "code",
   "execution_count": 8,
   "metadata": {},
   "outputs": [
    {
     "data": {
      "text/html": [
       "<div>\n",
       "<style scoped>\n",
       "    .dataframe tbody tr th:only-of-type {\n",
       "        vertical-align: middle;\n",
       "    }\n",
       "\n",
       "    .dataframe tbody tr th {\n",
       "        vertical-align: top;\n",
       "    }\n",
       "\n",
       "    .dataframe thead th {\n",
       "        text-align: right;\n",
       "    }\n",
       "</style>\n",
       "<table border=\"1\" class=\"dataframe\">\n",
       "  <thead>\n",
       "    <tr style=\"text-align: right;\">\n",
       "      <th></th>\n",
       "      <th>Tumor Volume (mm3) Mean</th>\n",
       "      <th>Tumor Volume (mm3) Median</th>\n",
       "      <th>Tumor Volume (mm3) Variance</th>\n",
       "      <th>Tumor Volume (mm3) Standard Deviation</th>\n",
       "      <th>Tumor Volume (mm3) Standard Error of Mean</th>\n",
       "    </tr>\n",
       "    <tr>\n",
       "      <th>Drug Regimen</th>\n",
       "      <th></th>\n",
       "      <th></th>\n",
       "      <th></th>\n",
       "      <th></th>\n",
       "      <th></th>\n",
       "    </tr>\n",
       "  </thead>\n",
       "  <tbody>\n",
       "    <tr>\n",
       "      <th>Capomulin</th>\n",
       "      <td>40.675741</td>\n",
       "      <td>41.557809</td>\n",
       "      <td>24.947764</td>\n",
       "      <td>4.994774</td>\n",
       "      <td>0.329346</td>\n",
       "    </tr>\n",
       "    <tr>\n",
       "      <th>Ceftamin</th>\n",
       "      <td>52.591172</td>\n",
       "      <td>51.776157</td>\n",
       "      <td>39.290177</td>\n",
       "      <td>6.268188</td>\n",
       "      <td>0.469821</td>\n",
       "    </tr>\n",
       "    <tr>\n",
       "      <th>Infubinol</th>\n",
       "      <td>52.884795</td>\n",
       "      <td>51.820584</td>\n",
       "      <td>43.128684</td>\n",
       "      <td>6.567243</td>\n",
       "      <td>0.492236</td>\n",
       "    </tr>\n",
       "    <tr>\n",
       "      <th>Ketapril</th>\n",
       "      <td>55.235638</td>\n",
       "      <td>53.698743</td>\n",
       "      <td>68.553577</td>\n",
       "      <td>8.279709</td>\n",
       "      <td>0.603860</td>\n",
       "    </tr>\n",
       "    <tr>\n",
       "      <th>Naftisol</th>\n",
       "      <td>54.331565</td>\n",
       "      <td>52.509285</td>\n",
       "      <td>66.173479</td>\n",
       "      <td>8.134708</td>\n",
       "      <td>0.596466</td>\n",
       "    </tr>\n",
       "    <tr>\n",
       "      <th>Placebo</th>\n",
       "      <td>54.033581</td>\n",
       "      <td>52.288934</td>\n",
       "      <td>61.168083</td>\n",
       "      <td>7.821003</td>\n",
       "      <td>0.581331</td>\n",
       "    </tr>\n",
       "    <tr>\n",
       "      <th>Propriva</th>\n",
       "      <td>52.393463</td>\n",
       "      <td>50.909965</td>\n",
       "      <td>43.138803</td>\n",
       "      <td>6.568014</td>\n",
       "      <td>0.525862</td>\n",
       "    </tr>\n",
       "    <tr>\n",
       "      <th>Ramicane</th>\n",
       "      <td>40.216745</td>\n",
       "      <td>40.673236</td>\n",
       "      <td>23.486704</td>\n",
       "      <td>4.846308</td>\n",
       "      <td>0.320955</td>\n",
       "    </tr>\n",
       "    <tr>\n",
       "      <th>Stelasyn</th>\n",
       "      <td>54.233149</td>\n",
       "      <td>52.431737</td>\n",
       "      <td>59.450562</td>\n",
       "      <td>7.710419</td>\n",
       "      <td>0.573111</td>\n",
       "    </tr>\n",
       "    <tr>\n",
       "      <th>Zoniferol</th>\n",
       "      <td>53.236507</td>\n",
       "      <td>51.818479</td>\n",
       "      <td>48.533355</td>\n",
       "      <td>6.966589</td>\n",
       "      <td>0.516398</td>\n",
       "    </tr>\n",
       "  </tbody>\n",
       "</table>\n",
       "</div>"
      ],
      "text/plain": [
       "              Tumor Volume (mm3) Mean  Tumor Volume (mm3) Median  \\\n",
       "Drug Regimen                                                       \n",
       "Capomulin                   40.675741                  41.557809   \n",
       "Ceftamin                    52.591172                  51.776157   \n",
       "Infubinol                   52.884795                  51.820584   \n",
       "Ketapril                    55.235638                  53.698743   \n",
       "Naftisol                    54.331565                  52.509285   \n",
       "Placebo                     54.033581                  52.288934   \n",
       "Propriva                    52.393463                  50.909965   \n",
       "Ramicane                    40.216745                  40.673236   \n",
       "Stelasyn                    54.233149                  52.431737   \n",
       "Zoniferol                   53.236507                  51.818479   \n",
       "\n",
       "              Tumor Volume (mm3) Variance  \\\n",
       "Drug Regimen                                \n",
       "Capomulin                       24.947764   \n",
       "Ceftamin                        39.290177   \n",
       "Infubinol                       43.128684   \n",
       "Ketapril                        68.553577   \n",
       "Naftisol                        66.173479   \n",
       "Placebo                         61.168083   \n",
       "Propriva                        43.138803   \n",
       "Ramicane                        23.486704   \n",
       "Stelasyn                        59.450562   \n",
       "Zoniferol                       48.533355   \n",
       "\n",
       "              Tumor Volume (mm3) Standard Deviation  \\\n",
       "Drug Regimen                                          \n",
       "Capomulin                                  4.994774   \n",
       "Ceftamin                                   6.268188   \n",
       "Infubinol                                  6.567243   \n",
       "Ketapril                                   8.279709   \n",
       "Naftisol                                   8.134708   \n",
       "Placebo                                    7.821003   \n",
       "Propriva                                   6.568014   \n",
       "Ramicane                                   4.846308   \n",
       "Stelasyn                                   7.710419   \n",
       "Zoniferol                                  6.966589   \n",
       "\n",
       "              Tumor Volume (mm3) Standard Error of Mean  \n",
       "Drug Regimen                                             \n",
       "Capomulin                                      0.329346  \n",
       "Ceftamin                                       0.469821  \n",
       "Infubinol                                      0.492236  \n",
       "Ketapril                                       0.603860  \n",
       "Naftisol                                       0.596466  \n",
       "Placebo                                        0.581331  \n",
       "Propriva                                       0.525862  \n",
       "Ramicane                                       0.320955  \n",
       "Stelasyn                                       0.573111  \n",
       "Zoniferol                                      0.516398  "
      ]
     },
     "execution_count": 8,
     "metadata": {},
     "output_type": "execute_result"
    }
   ],
   "source": [
    "# Generate a summary statistics table of mean, median, variance, standard deviation, and SEM of the tumor volume for each regimen\n",
    "\n",
    "# Use groupby and summary statistical methods to calculate the following properties of each drug regimen: \n",
    "# mean, median, variance, standard deviation, and SEM of the tumor volume. \n",
    "# Assemble the resulting series into a single summary dataframe.\n",
    "study_grouped_by_drug = study_results_cleaned.groupby(\"Drug Regimen\")\n",
    "\n",
    "tumor_mean = study_grouped_by_drug[\"Tumor Volume (mm3)\"].mean()\n",
    "tumor_median = study_grouped_by_drug[\"Tumor Volume (mm3)\"].median()\n",
    "tumor_var = study_grouped_by_drug[\"Tumor Volume (mm3)\"].var()\n",
    "tumor_stdv = study_grouped_by_drug[\"Tumor Volume (mm3)\"].std()\n",
    "tumor_sem = study_grouped_by_drug[\"Tumor Volume (mm3)\"].sem()\n",
    "\n",
    "summary_statistics = pd.DataFrame({\n",
    "    \"Tumor Volume (mm3) Mean\":tumor_mean,\n",
    "    \"Tumor Volume (mm3) Median\":tumor_median,\n",
    "    \"Tumor Volume (mm3) Variance\":tumor_var,\n",
    "    \"Tumor Volume (mm3) Standard Deviation\":tumor_stdv,\n",
    "    \"Tumor Volume (mm3) Standard Error of Mean\":tumor_sem\n",
    "})\n",
    "\n",
    "summary_statistics\n"
   ]
  },
  {
   "cell_type": "code",
   "execution_count": 9,
   "metadata": {},
   "outputs": [],
   "source": [
    "# Generate a summary statistics table of mean, median, variance, standard deviation, and SEM of the tumor volume for each regimen\n",
    "\n",
    "# Using the aggregation method, produce the same summary statistics in a single line\n"
   ]
  },
  {
   "cell_type": "markdown",
   "metadata": {},
   "source": [
    "## Bar and Pie Charts"
   ]
  },
  {
   "cell_type": "code",
   "execution_count": 181,
   "metadata": {},
   "outputs": [
    {
     "data": {
      "text/plain": [
       "<AxesSubplot:title={'center':'Total Number of Timepoints by Drug Regime'}, xlabel='Drug Regime', ylabel='Timepoints'>"
      ]
     },
     "execution_count": 181,
     "metadata": {},
     "output_type": "execute_result"
    },
    {
     "data": {
      "image/png": "[encoded data removed]",
      "text/plain": [
       "<Figure size 432x288 with 1 Axes>"
      ]
     },
     "metadata": {
      "needs_background": "light"
     },
     "output_type": "display_data"
    }
   ],
   "source": [
    "# Generate a bar plot showing the total number of timepoints for all mice tested for each drug regimen using Pandas.\n",
    "total_timepoints = study_grouped_by_drug[\"Timepoint\"].count()\n",
    "total_timepoints.plot(kind=\"bar\", title=\"Total Number of Timepoints by Drug Regime\", ylabel=\"Timepoints\", xlabel=\"Drug Regime\")\n"
   ]
  },
  {
   "cell_type": "code",
   "execution_count": 178,
   "metadata": {},
   "outputs": [
    {
     "data": {
      "image/png": "[encoded data removed]",
      "text/plain": [
       "<Figure size 432x288 with 1 Axes>"
      ]
     },
     "metadata": {
      "needs_background": "light"
     },
     "output_type": "display_data"
    }
   ],
   "source": [
    "# Generate a bar plot showing the total number of timepoints for all mice tested for each drug regimen using pyplot.\n",
    "plt.bar(total_timepoints.index, total_timepoints, width = 0.5)\n",
    "plt.xticks(rotation = 90)\n",
    "plt.title(\"Total Number of Timepoints by Drug Regime\")\n",
    "plt.ylabel(\"Timepoints\")\n",
    "plt.xlabel(\"Drug Regime\")\n",
    "plt.show()\n",
    "\n"
   ]
  },
  {
   "cell_type": "code",
   "execution_count": 83,
   "metadata": {},
   "outputs": [
    {
     "data": {
      "text/plain": [
       "<AxesSubplot:title={'center':'Distribution of Male and Female Mice'}>"
      ]
     },
     "execution_count": 83,
     "metadata": {},
     "output_type": "execute_result"
    },
    {
     "data": {
      "image/png": "[encoded data removed]",
      "text/plain": [
       "<Figure size 432x288 with 1 Axes>"
      ]
     },
     "metadata": {},
     "output_type": "display_data"
    }
   ],
   "source": [
    "# Generate a pie plot showing the distribution of female versus male mice using Pandas\n",
    "male_and_female_mice = pd.DataFrame(study_results_cleaned[\"Sex\"].value_counts())\n",
    "male_and_female_mice.plot(y=\"Sex\", kind=\"pie\", autopct='%1.1f%%', title=\"Distribution of Male and Female Mice\", legend=False, label='')\n"
   ]
  },
  {
   "cell_type": "code",
   "execution_count": 13,
   "metadata": {},
   "outputs": [
    {
     "data": {
      "image/png": "[encoded data removed]",
      "text/plain": [
       "<Figure size 432x288 with 1 Axes>"
      ]
     },
     "metadata": {},
     "output_type": "display_data"
    }
   ],
   "source": [
    "# Generate a pie plot showing the distribution of female versus male mice using pyplot\n",
    "plt.pie(male_and_female_mice[\"Sex\"], labels = male_and_female_mice.index, autopct='%1.1f%%')\n",
    "plt.title(\"Distribution of Male and Female Mice\")\n",
    "plt.show()\n"
   ]
  },
  {
   "cell_type": "markdown",
   "metadata": {},
   "source": [
    "## Quartiles, Outliers and Boxplots"
   ]
  },
  {
   "cell_type": "code",
   "execution_count": 111,
   "metadata": {},
   "outputs": [
    {
     "data": {
      "text/html": [
       "<div>\n",
       "<style scoped>\n",
       "    .dataframe tbody tr th:only-of-type {\n",
       "        vertical-align: middle;\n",
       "    }\n",
       "\n",
       "    .dataframe tbody tr th {\n",
       "        vertical-align: top;\n",
       "    }\n",
       "\n",
       "    .dataframe thead th {\n",
       "        text-align: right;\n",
       "    }\n",
       "</style>\n",
       "<table border=\"1\" class=\"dataframe\">\n",
       "  <thead>\n",
       "    <tr style=\"text-align: right;\">\n",
       "      <th></th>\n",
       "      <th>Mouse ID</th>\n",
       "      <th>Drug Regimen</th>\n",
       "      <th>Sex</th>\n",
       "      <th>Age_months</th>\n",
       "      <th>Weight (g)</th>\n",
       "      <th>Timepoint</th>\n",
       "      <th>Tumor Volume (mm3)</th>\n",
       "      <th>Metastatic Sites</th>\n",
       "      <th>Final Tumor Volume (mm3)</th>\n",
       "    </tr>\n",
       "  </thead>\n",
       "  <tbody>\n",
       "    <tr>\n",
       "      <th>0</th>\n",
       "      <td>k403</td>\n",
       "      <td>Ramicane</td>\n",
       "      <td>Male</td>\n",
       "      <td>21</td>\n",
       "      <td>16</td>\n",
       "      <td>0</td>\n",
       "      <td>45.000000</td>\n",
       "      <td>0</td>\n",
       "      <td>22.050126</td>\n",
       "    </tr>\n",
       "    <tr>\n",
       "      <th>1</th>\n",
       "      <td>k403</td>\n",
       "      <td>Ramicane</td>\n",
       "      <td>Male</td>\n",
       "      <td>21</td>\n",
       "      <td>16</td>\n",
       "      <td>5</td>\n",
       "      <td>38.825898</td>\n",
       "      <td>0</td>\n",
       "      <td>22.050126</td>\n",
       "    </tr>\n",
       "    <tr>\n",
       "      <th>2</th>\n",
       "      <td>k403</td>\n",
       "      <td>Ramicane</td>\n",
       "      <td>Male</td>\n",
       "      <td>21</td>\n",
       "      <td>16</td>\n",
       "      <td>10</td>\n",
       "      <td>35.014271</td>\n",
       "      <td>1</td>\n",
       "      <td>22.050126</td>\n",
       "    </tr>\n",
       "    <tr>\n",
       "      <th>3</th>\n",
       "      <td>k403</td>\n",
       "      <td>Ramicane</td>\n",
       "      <td>Male</td>\n",
       "      <td>21</td>\n",
       "      <td>16</td>\n",
       "      <td>15</td>\n",
       "      <td>34.223992</td>\n",
       "      <td>1</td>\n",
       "      <td>22.050126</td>\n",
       "    </tr>\n",
       "    <tr>\n",
       "      <th>4</th>\n",
       "      <td>k403</td>\n",
       "      <td>Ramicane</td>\n",
       "      <td>Male</td>\n",
       "      <td>21</td>\n",
       "      <td>16</td>\n",
       "      <td>20</td>\n",
       "      <td>32.997729</td>\n",
       "      <td>1</td>\n",
       "      <td>22.050126</td>\n",
       "    </tr>\n",
       "    <tr>\n",
       "      <th>...</th>\n",
       "      <td>...</td>\n",
       "      <td>...</td>\n",
       "      <td>...</td>\n",
       "      <td>...</td>\n",
       "      <td>...</td>\n",
       "      <td>...</td>\n",
       "      <td>...</td>\n",
       "      <td>...</td>\n",
       "      <td>...</td>\n",
       "    </tr>\n",
       "    <tr>\n",
       "      <th>1883</th>\n",
       "      <td>z969</td>\n",
       "      <td>Naftisol</td>\n",
       "      <td>Male</td>\n",
       "      <td>9</td>\n",
       "      <td>30</td>\n",
       "      <td>25</td>\n",
       "      <td>63.145652</td>\n",
       "      <td>2</td>\n",
       "      <td>73.867845</td>\n",
       "    </tr>\n",
       "    <tr>\n",
       "      <th>1884</th>\n",
       "      <td>z969</td>\n",
       "      <td>Naftisol</td>\n",
       "      <td>Male</td>\n",
       "      <td>9</td>\n",
       "      <td>30</td>\n",
       "      <td>30</td>\n",
       "      <td>65.841013</td>\n",
       "      <td>3</td>\n",
       "      <td>73.867845</td>\n",
       "    </tr>\n",
       "    <tr>\n",
       "      <th>1885</th>\n",
       "      <td>z969</td>\n",
       "      <td>Naftisol</td>\n",
       "      <td>Male</td>\n",
       "      <td>9</td>\n",
       "      <td>30</td>\n",
       "      <td>35</td>\n",
       "      <td>69.176246</td>\n",
       "      <td>4</td>\n",
       "      <td>73.867845</td>\n",
       "    </tr>\n",
       "    <tr>\n",
       "      <th>1886</th>\n",
       "      <td>z969</td>\n",
       "      <td>Naftisol</td>\n",
       "      <td>Male</td>\n",
       "      <td>9</td>\n",
       "      <td>30</td>\n",
       "      <td>40</td>\n",
       "      <td>70.314904</td>\n",
       "      <td>4</td>\n",
       "      <td>73.867845</td>\n",
       "    </tr>\n",
       "    <tr>\n",
       "      <th>1887</th>\n",
       "      <td>z969</td>\n",
       "      <td>Naftisol</td>\n",
       "      <td>Male</td>\n",
       "      <td>9</td>\n",
       "      <td>30</td>\n",
       "      <td>45</td>\n",
       "      <td>73.867845</td>\n",
       "      <td>4</td>\n",
       "      <td>73.867845</td>\n",
       "    </tr>\n",
       "  </tbody>\n",
       "</table>\n",
       "<p>1888 rows × 9 columns</p>\n",
       "</div>"
      ],
      "text/plain": [
       "     Mouse ID Drug Regimen   Sex  Age_months  Weight (g)  Timepoint  \\\n",
       "0        k403     Ramicane  Male          21          16          0   \n",
       "1        k403     Ramicane  Male          21          16          5   \n",
       "2        k403     Ramicane  Male          21          16         10   \n",
       "3        k403     Ramicane  Male          21          16         15   \n",
       "4        k403     Ramicane  Male          21          16         20   \n",
       "...       ...          ...   ...         ...         ...        ...   \n",
       "1883     z969     Naftisol  Male           9          30         25   \n",
       "1884     z969     Naftisol  Male           9          30         30   \n",
       "1885     z969     Naftisol  Male           9          30         35   \n",
       "1886     z969     Naftisol  Male           9          30         40   \n",
       "1887     z969     Naftisol  Male           9          30         45   \n",
       "\n",
       "      Tumor Volume (mm3)  Metastatic Sites  Final Tumor Volume (mm3)  \n",
       "0              45.000000                 0                 22.050126  \n",
       "1              38.825898                 0                 22.050126  \n",
       "2              35.014271                 1                 22.050126  \n",
       "3              34.223992                 1                 22.050126  \n",
       "4              32.997729                 1                 22.050126  \n",
       "...                  ...               ...                       ...  \n",
       "1883           63.145652                 2                 73.867845  \n",
       "1884           65.841013                 3                 73.867845  \n",
       "1885           69.176246                 4                 73.867845  \n",
       "1886           70.314904                 4                 73.867845  \n",
       "1887           73.867845                 4                 73.867845  \n",
       "\n",
       "[1888 rows x 9 columns]"
      ]
     },
     "execution_count": 111,
     "metadata": {},
     "output_type": "execute_result"
    }
   ],
   "source": [
    "# Calculate the final tumor volume of each mouse across four of the treatment regimens:  \n",
    "# Capomulin, Ramicane, Infubinol, and Ceftamin\n",
    "\n",
    "# Start by getting the last (greatest) timepoint for each mouse\n",
    "\n",
    "# First we get a list of unique mice ids\n",
    "mouse_ids = study_results_cleaned[\"Mouse ID\"].unique()\n",
    "mouse_max_tumor = []\n",
    "\n",
    "# Then we loop through this list, each time filtering the dataset by mouse id using .loc,\n",
    "# then sorting by timepoint (in decending order) and getting the largest with .loc[0]\n",
    "# This value is then appended to a list of greatest tumor size\n",
    "for mouse in mouse_ids:\n",
    "    mouse_max_tumor.append(study_results_cleaned.loc[study_results_cleaned[\"Mouse ID\"] == mouse].sort_values(by=\"Timepoint\", ascending=False).iloc[0][\"Tumor Volume (mm3)\"])\n",
    "\n",
    "# Now we combine the list of mouse ids and final tumor volumnes together in a dataframe\n",
    "mouse_tumor_df = pd.DataFrame({\n",
    "    \"Mouse ID\":mouse_ids,\n",
    "    \"Final Tumor Volume (mm3)\":mouse_max_tumor\n",
    "})\n",
    "# Merge this group df with the original dataframe to get the tumor volume at the last timepoint\n",
    "study_results_tumor_size = pd.merge(study_results_cleaned, mouse_tumor_df, how=\"outer\", on=[\"Mouse ID\", \"Mouse ID\"])\n",
    "\n",
    "study_results_tumor_size"
   ]
  },
  {
   "cell_type": "code",
   "execution_count": 175,
   "metadata": {},
   "outputs": [
    {
     "name": "stdout",
     "output_type": "stream",
     "text": [
      "\n",
      "For Final Tumor Volume in Total:\n",
      "1st quartile      | 37.19 \n",
      "2nd quartile      | 45.0 \n",
      "3rd quartile      | 59.93\n",
      "IQR               | 22.74\n",
      "Outlier boundries | less than 3.07 and greater than 94.04\n",
      "The list of potential outliers: []\n",
      "    \n",
      "\n",
      "For Final Tumor Volume in Capomulin:\n",
      "1st quartile      | 32.38 \n",
      "2nd quartile      | 38.13 \n",
      "3rd quartile      | 40.16\n",
      "IQR               | 7.78\n",
      "Outlier boundries | less than 20.7 and greater than 51.83\n",
      "The list of potential outliers: []\n",
      "    \n",
      "\n",
      "For Final Tumor Volume in Ramicane:\n",
      "1st quartile      | 31.56 \n",
      "2nd quartile      | 36.56 \n",
      "3rd quartile      | 40.66\n",
      "IQR               | 9.1\n",
      "Outlier boundries | less than 17.91 and greater than 54.31\n",
      "The list of potential outliers: []\n",
      "    \n",
      "\n",
      "For Final Tumor Volume in Infubinol:\n",
      "1st quartile      | 54.05 \n",
      "2nd quartile      | 60.17 \n",
      "3rd quartile      | 65.53\n",
      "IQR               | 11.48\n",
      "Outlier boundries | less than 36.83 and greater than 82.74\n",
      "The list of potential outliers: [36.3213458]\n",
      "    \n",
      "\n",
      "For Final Tumor Volume in Ceftamin:\n",
      "1st quartile      | 48.72 \n",
      "2nd quartile      | 59.85 \n",
      "3rd quartile      | 64.3\n",
      "IQR               | 15.58\n",
      "Outlier boundries | less than 25.36 and greater than 87.67\n",
      "The list of potential outliers: []\n",
      "    \n"
     ]
    }
   ],
   "source": [
    "# Put treatments into a list for for loop (and later for plot labels)\n",
    "treatments = [\"Capomulin\", \"Ramicane\", \"Infubinol\", \"Ceftamin\"]\n",
    "\n",
    "# Create empty list to fill with tumor vol data (for plotting)\n",
    "tumor_vol_data = []\n",
    "\n",
    "# I'm very sorry, but I'm not 100% sure what the question is asking here, so this might be a very wrong way to go about it\n",
    "# The instructions on GitLab seem to say that we're suppose to do this for the whole dataset, but the rubric says to do it\n",
    "# for each drug regime, so I'm doing both, just to be sure.\n",
    "\n",
    "# We're goint to make this dictionary to split the data up between drug regimes, using the treatment name as the keys and \n",
    "# the list of final tumor volumes as the values\n",
    "tumor_vol_data_by_drug = {}\n",
    "\n",
    "# Calculate the IQR and quantitatively determine if there are any potential outliers. \n",
    "\n",
    "for treatment in treatments:\n",
    "    treatment_df = study_results_tumor_size.loc[study_results_tumor_size[\"Drug Regimen\"] == treatment]\n",
    "    \n",
    "    # To split the tumor volume data by treatment we are going to add an empty list to this dictionary with the treatment\n",
    "    # as the key, then we will later append the data to this list\n",
    "    tumor_vol_data_by_drug[treatment] = []\n",
    "    \n",
    "    # Now we want to get a single final tumor volume data point for each mouse, I don't want to just append all the \n",
    "    # final tumor volume data points, since the same tumor volume appears on every row for each mousein the merged dataframe,\n",
    "    # so mice that appear for more rows will be over-represented in the final data. I also don't want to use .unique to find\n",
    "    # the list of final tumor volumes in the off chance that two or more mice had the same values.\n",
    "    # So we iterate through the list of mouse IDs like we did in the last section and simply get the first entry in the\n",
    "    # final tumor volume column\n",
    "    \n",
    "    # Locate the rows which contain mice on each drug and get the tumor volumes\n",
    "    treatment_mouse_ids = treatment_df[\"Mouse ID\"].unique()\n",
    "    for mouse in treatment_mouse_ids:\n",
    "        final_tumor_size = treatment_df[\"Final Tumor Volume (mm3)\"].loc[treatment_df[\"Mouse ID\"] == mouse].iloc[0]\n",
    "        \n",
    "        # Append to the final data\n",
    "        tumor_vol_data.append(final_tumor_size)\n",
    "        \n",
    "        # Then append to the list in the dictionary\n",
    "        tumor_vol_data_by_drug[treatment].append(final_tumor_size)\n",
    "    \n",
    "# Determine outliers using upper and lower bounds\n",
    "\n",
    "# I want to do the calculations for each drug regime so we make a function that will print out everything for us.\n",
    "def print_outlier_summary(data, name):\n",
    "    q1, q2, q3 = np.quantile(data, [0.25, 0.5, 0.75])\n",
    "    iqr = q3 - q1\n",
    "    lower_bound = q1 - (1.5 * iqr)\n",
    "    upper_bound = q3 + (1.5 * iqr)\n",
    "\n",
    "    outlier_data = []\n",
    "    for datapoint in data:\n",
    "        if datapoint > upper_bound or datapoint < lower_bound:\n",
    "            outlier_data.append(datapoint)\n",
    "\n",
    "    print(f\"\"\"\n",
    "For Final Tumor Volume in {name}:\n",
    "1st quartile      | {round(q1, 2)} \n",
    "2nd quartile      | {round(q2, 2)} \n",
    "3rd quartile      | {round(q3, 2)}\n",
    "IQR               | {round(iqr, 2)}\n",
    "Outlier boundries | less than {round(lower_bound,2)} and greater than {round(upper_bound,2)}\n",
    "The list of potential outliers: {outlier_data}\n",
    "    \"\"\")\n",
    "    \n",
    "# First we print out the summary for the total dataset\n",
    "print_outlier_summary(tumor_vol_data, \"Total\")\n",
    "\n",
    "# Then we loop through the treatments calling the print_outlier_summary for each one\n",
    "for treatment in treatments:\n",
    "    print_outlier_summary(tumor_vol_data_by_drug[treatment], treatment)\n"
   ]
  },
  {
   "cell_type": "code",
   "execution_count": 173,
   "metadata": {},
   "outputs": [
    {
     "data": {
      "image/png": "[encoded data removed]",
      "text/plain": [
       "<Figure size 432x288 with 1 Axes>"
      ]
     },
     "metadata": {
      "needs_background": "light"
     },
     "output_type": "display_data"
    }
   ],
   "source": [
    "# Generate a box plot of the final tumor volume of each mouse across four regimens of interest\n",
    "\n",
    "# We set this up to outlier markers in the boxplot\n",
    "markers = dict(markerfacecolor='r', marker='s')\n",
    "\n",
    "fig1, ax1 = plt.subplots()\n",
    "ax1.set_title(\"Final Tumor Size (mm3) by Treatment\")\n",
    "data = [tumor_vol_data_by_drug[\"Capomulin\"], tumor_vol_data_by_drug[\"Ramicane\"], tumor_vol_data_by_drug[\"Infubinol\"], tumor_vol_data_by_drug[\"Ceftamin\"]]\n",
    "ax1.boxplot(data, flierprops=markers)\n",
    "plt.xticks([1,2,3,4],treatments)\n",
    "plt.show()\n"
   ]
  },
  {
   "cell_type": "markdown",
   "metadata": {},
   "source": [
    "## Line and Scatter Plots"
   ]
  },
  {
   "cell_type": "code",
   "execution_count": 60,
   "metadata": {},
   "outputs": [
    {
     "data": {
      "text/plain": [
       "Text(0, 0.5, 'Tumor Volume (mm3)')"
      ]
     },
     "execution_count": 60,
     "metadata": {},
     "output_type": "execute_result"
    },
    {
     "data": {
      "image/png": "[encoded data removed]",
      "text/plain": [
       "<Figure size 432x288 with 1 Axes>"
      ]
     },
     "metadata": {
      "needs_background": "light"
     },
     "output_type": "display_data"
    }
   ],
   "source": [
    "# Generate a line plot of tumor volume vs. time point for a mouse treated with Capomulin\n",
    "\n",
    "# First we filter for drug regime capomulin\n",
    "capomulin_tumor_volume = study_results_tumor_size.loc[study_results_tumor_size[\"Drug Regimen\"] == \"Capomulin\"]\n",
    "\n",
    "# Set mouse name as variable, so we can easily change it if needed\n",
    "mouse_name = \"m957\"\n",
    "\n",
    "# Then we get the data for that specific mouse from the dataframe\n",
    "single_mouse = capomulin_tumor_volume.loc[capomulin_tumor_volume[\"Mouse ID\"] == mouse_name]\n",
    "\n",
    "#Then plot\n",
    "plt.plot(single_mouse[\"Timepoint\"], single_mouse[\"Tumor Volume (mm3)\"])\n",
    "plt.title(f\"Tumor Size of Mouse {mouse_name} Treated by Capomulin\")\n",
    "plt.xlabel(\"Timepoint\")\n",
    "plt.ylabel(\"Tumor Volume (mm3)\")"
   ]
  },
  {
   "cell_type": "code",
   "execution_count": 62,
   "metadata": {},
   "outputs": [
    {
     "data": {
      "image/png": "[encoded data removed]",
      "text/plain": [
       "<Figure size 432x288 with 1 Axes>"
      ]
     },
     "metadata": {
      "needs_background": "light"
     },
     "output_type": "display_data"
    }
   ],
   "source": [
    "# Generate a scatter plot of average tumor volume vs. mouse weight for the Capomulin regimen\n",
    "\n",
    "# We create an empty list that will hold the average tumor volumes\n",
    "average_tumor_volume = []\n",
    "\n",
    "# Then we get a list of all the weights then loop through them pulling the tumor volume data for each weight\n",
    "# and appending the mean to the our average_tumor_volume list \n",
    "weights = capomulin_tumor_volume[\"Weight (g)\"].unique()\n",
    "for weight in weights:\n",
    "    average_tumor_volume.append(capomulin_tumor_volume[\"Tumor Volume (mm3)\"].loc[capomulin_tumor_volume[\"Weight (g)\"] == weight].mean())\n",
    "\n",
    "plt.scatter(x=weights, y=average_tumor_volume)\n",
    "plt.xlabel(\"Weight (g)\")\n",
    "plt.ylabel(\"Average Tumor Volume (mm3)\")\n",
    "plt.title(\"Mouse Weight vs Tumor Volume for Mice Treated with Capomulin\")\n",
    "plt.show()\n",
    "    "
   ]
  },
  {
   "cell_type": "markdown",
   "metadata": {},
   "source": [
    "## Correlation and Regression"
   ]
  },
  {
   "cell_type": "code",
   "execution_count": 80,
   "metadata": {},
   "outputs": [
    {
     "data": {
      "image/png": "[encoded data removed]",
      "text/plain": [
       "<Figure size 432x288 with 1 Axes>"
      ]
     },
     "metadata": {
      "needs_background": "light"
     },
     "output_type": "display_data"
    },
    {
     "name": "stdout",
     "output_type": "stream",
     "text": [
      "R squared value is 0.801, which indicates a strong correlation.\n"
     ]
    }
   ],
   "source": [
    "# Calculate the correlation coefficient and linear regression model \n",
    "# for mouse weight and average tumor volume for the Capomulin regimen\n",
    "\n",
    "# Same plot code from the last section\n",
    "plt.scatter(x=weights, y=average_tumor_volume)\n",
    "plt.xlabel(\"Weight (g)\")\n",
    "plt.ylabel(\"Average Tumor Volume (mm3)\")\n",
    "plt.title(\"Mouse Weight vs Tumor Volume for Mice Treated with Capomulin\")\n",
    "\n",
    "\n",
    "# We use linregress to get everything we need\n",
    "(slope, intercept, rvalue, pvalue, stderr) = linregress(weights, average_tumor_volume)\n",
    "\n",
    "# We plot the linear regression equation on the plot, getting y values as a function of weights\n",
    "regress_values = weights * slope + intercept\n",
    "\n",
    "# Then we want ot shoe the equation, so we make a string to be put on plot.\n",
    "line_eq = \"y = \" + str(round(slope,2)) + \"x + \" + str(round(intercept,2))\n",
    "\n",
    "plt.plot(weights, regress_values, \"r-\")\n",
    "plt.annotate(line_eq,(20,37),fontsize=15,color=\"red\")\n",
    "plt.show()\n",
    "\n",
    "# With the slope we can get the r squared value, which is 0.8, a strong correlation.\n",
    "rsquared = round(slope ** 2, 3)\n",
    "print(f\"R squared value is {rsquared}, which indicates a strong correlation.\")"
   ]
  },
  {
   "cell_type": "code",
   "execution_count": null,
   "metadata": {},
   "outputs": [],
   "source": []
  }
 ],
 "metadata": {
  "anaconda-cloud": {},
  "kernelspec": {
   "display_name": "Python 3 (ipykernel)",
   "language": "python",
   "name": "python3"
  },
  "language_info": {
   "codemirror_mode": {
    "name": "ipython",
    "version": 3
   },
   "file_extension": ".py",
   "mimetype": "text/x-python",
   "name": "python",
   "nbconvert_exporter": "python",
   "pygments_lexer": "ipython3",
   "version": "3.9.7"
  }
 },
 "nbformat": 4,
 "nbformat_minor": 4
}
